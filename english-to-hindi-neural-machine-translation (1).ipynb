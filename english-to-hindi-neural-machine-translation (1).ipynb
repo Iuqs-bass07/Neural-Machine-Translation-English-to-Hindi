{
 "cells": [
  {
   "cell_type": "markdown",
   "id": "d8c03cc7",
   "metadata": {
    "papermill": {
     "duration": 0.027082,
     "end_time": "2022-01-03T11:14:53.139520",
     "exception": false,
     "start_time": "2022-01-03T11:14:53.112438",
     "status": "completed"
    },
    "tags": []
   },
   "source": [
    "## Import Necesary Libraries"
   ]
  },
  {
   "cell_type": "code",
   "execution_count": 1,
   "id": "1ea7c6d9",
   "metadata": {
    "execution": {
     "iopub.execute_input": "2022-01-03T11:14:53.204655Z",
     "iopub.status.busy": "2022-01-03T11:14:53.201580Z",
     "iopub.status.idle": "2022-01-03T11:14:58.350089Z",
     "shell.execute_reply": "2022-01-03T11:14:58.349062Z",
     "shell.execute_reply.started": "2022-01-03T11:00:14.280628Z"
    },
    "papermill": {
     "duration": 5.183039,
     "end_time": "2022-01-03T11:14:58.350256",
     "exception": false,
     "start_time": "2022-01-03T11:14:53.167217",
     "status": "completed"
    },
    "tags": []
   },
   "outputs": [],
   "source": [
    "import pandas as pd\n",
    "import tensorflow as tf\n",
    "import keras\n",
    "from keras import layers\n",
    "import numpy as np\n",
    "from sklearn.model_selection import train_test_split\n",
    "from keras.layers import LSTM, Dense,Input, Embedding\n",
    "from sklearn.utils import shuffle\n",
    "import matplotlib.pyplot as plt\n",
    "import seaborn as sns\n",
    "import re\n",
    "import string\n",
    "\n",
    "import warnings\n",
    "warnings.filterwarnings('ignore')\n"
   ]
  },
  {
   "cell_type": "code",
   "execution_count": 2,
   "id": "09960c4c",
   "metadata": {
    "execution": {
     "iopub.execute_input": "2022-01-03T11:14:58.407269Z",
     "iopub.status.busy": "2022-01-03T11:14:58.406705Z",
     "iopub.status.idle": "2022-01-03T11:14:59.471525Z",
     "shell.execute_reply": "2022-01-03T11:14:59.471972Z",
     "shell.execute_reply.started": "2022-01-03T11:00:14.708662Z"
    },
    "papermill": {
     "duration": 1.095263,
     "end_time": "2022-01-03T11:14:59.472124",
     "exception": false,
     "start_time": "2022-01-03T11:14:58.376861",
     "status": "completed"
    },
    "tags": []
   },
   "outputs": [
    {
     "data": {
      "text/html": [
       "<div>\n",
       "<style scoped>\n",
       "    .dataframe tbody tr th:only-of-type {\n",
       "        vertical-align: middle;\n",
       "    }\n",
       "\n",
       "    .dataframe tbody tr th {\n",
       "        vertical-align: top;\n",
       "    }\n",
       "\n",
       "    .dataframe thead th {\n",
       "        text-align: right;\n",
       "    }\n",
       "</style>\n",
       "<table border=\"1\" class=\"dataframe\">\n",
       "  <thead>\n",
       "    <tr style=\"text-align: right;\">\n",
       "      <th></th>\n",
       "      <th>source</th>\n",
       "      <th>english_sentence</th>\n",
       "      <th>hindi_sentence</th>\n",
       "    </tr>\n",
       "  </thead>\n",
       "  <tbody>\n",
       "    <tr>\n",
       "      <th>0</th>\n",
       "      <td>ted</td>\n",
       "      <td>politicians do not have permission to do what ...</td>\n",
       "      <td>राजनीतिज्ञों के पास जो कार्य करना चाहिए, वह कर...</td>\n",
       "    </tr>\n",
       "    <tr>\n",
       "      <th>1</th>\n",
       "      <td>ted</td>\n",
       "      <td>I'd like to tell you about one such child,</td>\n",
       "      <td>मई आपको ऐसे ही एक बच्चे के बारे में बताना चाहू...</td>\n",
       "    </tr>\n",
       "    <tr>\n",
       "      <th>2</th>\n",
       "      <td>indic2012</td>\n",
       "      <td>This percentage is even greater than the perce...</td>\n",
       "      <td>यह प्रतिशत भारत में हिन्दुओं प्रतिशत से अधिक है।</td>\n",
       "    </tr>\n",
       "    <tr>\n",
       "      <th>3</th>\n",
       "      <td>ted</td>\n",
       "      <td>what we really mean is that they're bad at not...</td>\n",
       "      <td>हम ये नहीं कहना चाहते कि वो ध्यान नहीं दे पाते</td>\n",
       "    </tr>\n",
       "    <tr>\n",
       "      <th>4</th>\n",
       "      <td>indic2012</td>\n",
       "      <td>.The ending portion of these Vedas is called U...</td>\n",
       "      <td>इन्हीं वेदों का अंतिम भाग उपनिषद कहलाता है।</td>\n",
       "    </tr>\n",
       "  </tbody>\n",
       "</table>\n",
       "</div>"
      ],
      "text/plain": [
       "      source                                   english_sentence  \\\n",
       "0        ted  politicians do not have permission to do what ...   \n",
       "1        ted         I'd like to tell you about one such child,   \n",
       "2  indic2012  This percentage is even greater than the perce...   \n",
       "3        ted  what we really mean is that they're bad at not...   \n",
       "4  indic2012  .The ending portion of these Vedas is called U...   \n",
       "\n",
       "                                      hindi_sentence  \n",
       "0  राजनीतिज्ञों के पास जो कार्य करना चाहिए, वह कर...  \n",
       "1  मई आपको ऐसे ही एक बच्चे के बारे में बताना चाहू...  \n",
       "2   यह प्रतिशत भारत में हिन्दुओं प्रतिशत से अधिक है।  \n",
       "3     हम ये नहीं कहना चाहते कि वो ध्यान नहीं दे पाते  \n",
       "4        इन्हीं वेदों का अंतिम भाग उपनिषद कहलाता है।  "
      ]
     },
     "execution_count": 2,
     "metadata": {},
     "output_type": "execute_result"
    }
   ],
   "source": [
    "data = pd.read_csv('Hindi_English_Truncated_Corpus.csv',encoding='utf-8')\n",
    "data.head()"
   ]
  },
  {
   "cell_type": "code",
   "execution_count": 3,
   "id": "0ebb9044",
   "metadata": {
    "execution": {
     "iopub.execute_input": "2022-01-03T11:14:59.548070Z",
     "iopub.status.busy": "2022-01-03T11:14:59.545386Z",
     "iopub.status.idle": "2022-01-03T11:14:59.552861Z",
     "shell.execute_reply": "2022-01-03T11:14:59.552401Z",
     "shell.execute_reply.started": "2022-01-03T11:00:15.343574Z"
    },
    "papermill": {
     "duration": 0.053483,
     "end_time": "2022-01-03T11:14:59.552971",
     "exception": false,
     "start_time": "2022-01-03T11:14:59.499488",
     "status": "completed"
    },
    "tags": []
   },
   "outputs": [
    {
     "data": {
      "text/plain": [
       "source\n",
       "tides        50000\n",
       "ted          39881\n",
       "indic2012    37726\n",
       "Name: count, dtype: int64"
      ]
     },
     "execution_count": 3,
     "metadata": {},
     "output_type": "execute_result"
    }
   ],
   "source": [
    "# counting sources\n",
    "data['source'].value_counts()"
   ]
  },
  {
   "cell_type": "code",
   "execution_count": 4,
   "id": "5584f4e5",
   "metadata": {
    "execution": {
     "iopub.execute_input": "2022-01-03T11:14:59.621511Z",
     "iopub.status.busy": "2022-01-03T11:14:59.620756Z",
     "iopub.status.idle": "2022-01-03T11:14:59.973278Z",
     "shell.execute_reply": "2022-01-03T11:14:59.972583Z",
     "shell.execute_reply.started": "2022-01-03T11:00:16.098987Z"
    },
    "papermill": {
     "duration": 0.393914,
     "end_time": "2022-01-03T11:14:59.973426",
     "exception": false,
     "start_time": "2022-01-03T11:14:59.579512",
     "status": "completed"
    },
    "tags": []
   },
   "outputs": [
    {
     "data": {
      "image/png": "[encoded data removed]",
      "text/plain": [
       "<Figure size 640x480 with 1 Axes>"
      ]
     },
     "metadata": {},
     "output_type": "display_data"
    }
   ],
   "source": [
    "\n",
    "sns.countplot(data['source'],data = data)\n",
    "plt.show()"
   ]
  },
  {
   "cell_type": "code",
   "execution_count": 5,
   "id": "02668f08",
   "metadata": {
    "execution": {
     "iopub.execute_input": "2022-01-03T11:15:00.035172Z",
     "iopub.status.busy": "2022-01-03T11:15:00.034623Z",
     "iopub.status.idle": "2022-01-03T11:15:00.039370Z",
     "shell.execute_reply": "2022-01-03T11:15:00.038945Z",
     "shell.execute_reply.started": "2022-01-03T11:00:16.505290Z"
    },
    "papermill": {
     "duration": 0.037279,
     "end_time": "2022-01-03T11:15:00.039475",
     "exception": false,
     "start_time": "2022-01-03T11:15:00.002196",
     "status": "completed"
    },
    "tags": []
   },
   "outputs": [
    {
     "name": "stdout",
     "output_type": "stream",
     "text": [
      "Total data:  127607\n"
     ]
    }
   ],
   "source": [
    "print(\"Total data: \",data.shape[0])"
   ]
  },
  {
   "cell_type": "code",
   "execution_count": 6,
   "id": "4bfce6fc",
   "metadata": {
    "execution": {
     "iopub.execute_input": "2022-01-03T11:15:00.115291Z",
     "iopub.status.busy": "2022-01-03T11:15:00.114554Z",
     "iopub.status.idle": "2022-01-03T11:15:00.121181Z",
     "shell.execute_reply": "2022-01-03T11:15:00.121560Z",
     "shell.execute_reply.started": "2022-01-03T11:00:17.134769Z"
    },
    "papermill": {
     "duration": 0.05531,
     "end_time": "2022-01-03T11:15:00.121687",
     "exception": false,
     "start_time": "2022-01-03T11:15:00.066377",
     "status": "completed"
    },
    "tags": []
   },
   "outputs": [
    {
     "data": {
      "text/plain": [
       "(39881, 3)"
      ]
     },
     "execution_count": 6,
     "metadata": {},
     "output_type": "execute_result"
    }
   ],
   "source": [
    "# selcting data with source ted\n",
    "data = data[data.source == 'ted']\n",
    "data.shape"
   ]
  },
  {
   "cell_type": "code",
   "execution_count": 7,
   "id": "b8812576",
   "metadata": {
    "execution": {
     "iopub.execute_input": "2022-01-03T11:15:00.192624Z",
     "iopub.status.busy": "2022-01-03T11:15:00.191876Z",
     "iopub.status.idle": "2022-01-03T11:15:00.198356Z",
     "shell.execute_reply": "2022-01-03T11:15:00.197918Z",
     "shell.execute_reply.started": "2022-01-03T11:00:17.851118Z"
    },
    "papermill": {
     "duration": 0.049527,
     "end_time": "2022-01-03T11:15:00.198460",
     "exception": false,
     "start_time": "2022-01-03T11:15:00.148933",
     "status": "completed"
    },
    "tags": []
   },
   "outputs": [
    {
     "data": {
      "text/plain": [
       "source              0\n",
       "english_sentence    0\n",
       "hindi_sentence      0\n",
       "dtype: int64"
      ]
     },
     "execution_count": 7,
     "metadata": {},
     "output_type": "execute_result"
    }
   ],
   "source": [
    "# checking null values\n",
    "data.isna().sum()"
   ]
  },
  {
   "cell_type": "code",
   "execution_count": 8,
   "id": "612e3a7a",
   "metadata": {
    "execution": {
     "iopub.execute_input": "2022-01-03T11:15:00.296364Z",
     "iopub.status.busy": "2022-01-03T11:15:00.295719Z",
     "iopub.status.idle": "2022-01-03T11:15:00.441575Z",
     "shell.execute_reply": "2022-01-03T11:15:00.442596Z",
     "shell.execute_reply.started": "2022-01-03T11:00:18.152704Z"
    },
    "papermill": {
     "duration": 0.207204,
     "end_time": "2022-01-03T11:15:00.442811",
     "exception": false,
     "start_time": "2022-01-03T11:15:00.235607",
     "status": "completed"
    },
    "tags": []
   },
   "outputs": [
    {
     "name": "stdout",
     "output_type": "stream",
     "text": [
      "Total duplicate rows are:  1078\n"
     ]
    }
   ],
   "source": [
    "# checking duplicated data\n",
    "isDuplicated = data.duplicated().any()\n",
    "if isDuplicated:\n",
    "    total_duplicates = data.duplicated().sum()\n",
    "    print(\"Total duplicate rows are: \",total_duplicates)\n",
    "    data.drop_duplicates(inplace = True)"
   ]
  },
  {
   "cell_type": "code",
   "execution_count": 9,
   "id": "498640aa",
   "metadata": {
    "execution": {
     "iopub.execute_input": "2022-01-03T11:15:00.548164Z",
     "iopub.status.busy": "2022-01-03T11:15:00.547346Z",
     "iopub.status.idle": "2022-01-03T11:15:00.553234Z",
     "shell.execute_reply": "2022-01-03T11:15:00.554193Z",
     "shell.execute_reply.started": "2022-01-03T11:00:18.946677Z"
    },
    "papermill": {
     "duration": 0.064192,
     "end_time": "2022-01-03T11:15:00.554390",
     "exception": false,
     "start_time": "2022-01-03T11:15:00.490198",
     "status": "completed"
    },
    "tags": []
   },
   "outputs": [
    {
     "data": {
      "text/plain": [
       "(20000, 3)"
      ]
     },
     "execution_count": 9,
     "metadata": {},
     "output_type": "execute_result"
    }
   ],
   "source": [
    "## sampling 20000 rows randomly\n",
    "data = data.sample(n = 20000, random_state = 31)\n",
    "data.shape"
   ]
  },
  {
   "cell_type": "markdown",
   "id": "1f26d963",
   "metadata": {
    "papermill": {
     "duration": 0.045524,
     "end_time": "2022-01-03T11:15:00.643960",
     "exception": false,
     "start_time": "2022-01-03T11:15:00.598436",
     "status": "completed"
    },
    "tags": []
   },
   "source": [
    "## Text preprocessing"
   ]
  },
  {
   "cell_type": "code",
   "execution_count": 10,
   "id": "81e891b5",
   "metadata": {
    "execution": {
     "iopub.execute_input": "2022-01-03T11:15:00.748375Z",
     "iopub.status.busy": "2022-01-03T11:15:00.747181Z",
     "iopub.status.idle": "2022-01-03T11:15:00.886382Z",
     "shell.execute_reply": "2022-01-03T11:15:00.886846Z",
     "shell.execute_reply.started": "2022-01-03T11:00:25.024601Z"
    },
    "papermill": {
     "duration": 0.197409,
     "end_time": "2022-01-03T11:15:00.887004",
     "exception": false,
     "start_time": "2022-01-03T11:15:00.689595",
     "status": "completed"
    },
    "tags": []
   },
   "outputs": [],
   "source": [
    "## changing uppercase to lowercase\n",
    "data['english_sentence'] = data['english_sentence'].apply(lambda x: x.lower())\n",
    "data['hindi_sentence']=data['hindi_sentence'].apply(lambda x: x.lower())\n",
    "\n",
    "# Remove quotes\n",
    "data['english_sentence']=data['english_sentence'].apply(lambda x: re.sub(\"'\", '', x))\n",
    "data['hindi_sentence']=data['hindi_sentence'].apply(lambda x: re.sub(\"'\", '', x))\n"
   ]
  },
  {
   "cell_type": "code",
   "execution_count": 11,
   "id": "d2653a00",
   "metadata": {
    "execution": {
     "iopub.execute_input": "2022-01-03T11:15:01.003641Z",
     "iopub.status.busy": "2022-01-03T11:15:01.002748Z",
     "iopub.status.idle": "2022-01-03T11:15:01.413477Z",
     "shell.execute_reply": "2022-01-03T11:15:01.414289Z",
     "shell.execute_reply.started": "2022-01-03T11:00:25.851784Z"
    },
    "papermill": {
     "duration": 0.480302,
     "end_time": "2022-01-03T11:15:01.414490",
     "exception": false,
     "start_time": "2022-01-03T11:15:00.934188",
     "status": "completed"
    },
    "tags": []
   },
   "outputs": [
    {
     "name": "stdout",
     "output_type": "stream",
     "text": [
      "punctuations to exclude::  {'\"', '-', '`', '!', '<', '@', '}', '?', ')', '=', '/', '^', '(', '{', '|', '_', ',', ';', '&', '\\\\', ']', \"'\", '>', '+', '*', '[', '#', '.', ':', '%', '~', '$'}\n"
     ]
    }
   ],
   "source": [
    "to_exclude = set(string.punctuation) # Set of all special characters\n",
    "print(\"punctuations to exclude:: \",to_exclude)\n",
    "# Remove all the special characters\n",
    "data['english_sentence']=data['english_sentence'].apply(lambda x: ''.join(ch for ch in x if ch not in to_exclude))\n",
    "data['hindi_sentence']=data['hindi_sentence'].apply(lambda x: ''.join(ch for ch in x if ch not in to_exclude))"
   ]
  },
  {
   "cell_type": "code",
   "execution_count": 12,
   "id": "c5effba2",
   "metadata": {
    "execution": {
     "iopub.execute_input": "2022-01-03T11:15:01.524006Z",
     "iopub.status.busy": "2022-01-03T11:15:01.494217Z",
     "iopub.status.idle": "2022-01-03T11:15:01.807884Z",
     "shell.execute_reply": "2022-01-03T11:15:01.807392Z",
     "shell.execute_reply.started": "2022-01-03T11:00:35.363242Z"
    },
    "papermill": {
     "duration": 0.364525,
     "end_time": "2022-01-03T11:15:01.808018",
     "exception": false,
     "start_time": "2022-01-03T11:15:01.443493",
     "status": "completed"
    },
    "tags": []
   },
   "outputs": [],
   "source": [
    "from string import digits\n",
    "# Remove all numbers from text\n",
    "remove_digits = str.maketrans('', '', digits)\n",
    "\n",
    "data['english_sentence']=data['english_sentence'].apply(lambda x: x.translate(remove_digits))\n",
    "data['hindi_sentence']=data['hindi_sentence'].apply(lambda x: x.translate(remove_digits))\n",
    "\n",
    "data['hindi_sentence'] = data['hindi_sentence'].apply(lambda x: re.sub(\"[२३०८१५७९४६]\", \"\", x))\n",
    "\n",
    "# Remove extra spaces\n",
    "data['english_sentence']=data['english_sentence'].apply(lambda x: x.strip())\n",
    "data['hindi_sentence']=data['hindi_sentence'].apply(lambda x: x.strip())\n",
    "data['english_sentence']=data['english_sentence'].apply(lambda x: re.sub(\" +\", \" \", x))\n",
    "data['hindi_sentence']=data['hindi_sentence'].apply(lambda x: re.sub(\" +\", \" \", x))"
   ]
  },
  {
   "cell_type": "code",
   "execution_count": 13,
   "id": "432dc9e8",
   "metadata": {
    "execution": {
     "iopub.execute_input": "2022-01-03T11:15:01.878973Z",
     "iopub.status.busy": "2022-01-03T11:15:01.878236Z",
     "iopub.status.idle": "2022-01-03T11:15:01.880838Z",
     "shell.execute_reply": "2022-01-03T11:15:01.880359Z",
     "shell.execute_reply.started": "2022-01-03T11:00:42.165142Z"
    },
    "papermill": {
     "duration": 0.044044,
     "end_time": "2022-01-03T11:15:01.880953",
     "exception": false,
     "start_time": "2022-01-03T11:15:01.836909",
     "status": "completed"
    },
    "tags": []
   },
   "outputs": [],
   "source": [
    "## adding start and end token to the target sentence\n",
    "data['hindi_sentence'] = data['hindi_sentence'].apply(lambda x: \"START_ \" + x + \" _END\")"
   ]
  },
  {
   "cell_type": "code",
   "execution_count": 14,
   "id": "80bc9083",
   "metadata": {
    "execution": {
     "iopub.execute_input": "2022-01-03T11:15:01.991992Z",
     "iopub.status.busy": "2022-01-03T11:15:01.991402Z",
     "iopub.status.idle": "2022-01-03T11:15:01.995635Z",
     "shell.execute_reply": "2022-01-03T11:15:01.995236Z",
     "shell.execute_reply.started": "2022-01-03T11:00:47.084498Z"
    },
    "papermill": {
     "duration": 0.086159,
     "end_time": "2022-01-03T11:15:01.995745",
     "exception": false,
     "start_time": "2022-01-03T11:15:01.909586",
     "status": "completed"
    },
    "tags": []
   },
   "outputs": [
    {
     "data": {
      "text/html": [
       "<div>\n",
       "<style scoped>\n",
       "    .dataframe tbody tr th:only-of-type {\n",
       "        vertical-align: middle;\n",
       "    }\n",
       "\n",
       "    .dataframe tbody tr th {\n",
       "        vertical-align: top;\n",
       "    }\n",
       "\n",
       "    .dataframe thead th {\n",
       "        text-align: right;\n",
       "    }\n",
       "</style>\n",
       "<table border=\"1\" class=\"dataframe\">\n",
       "  <thead>\n",
       "    <tr style=\"text-align: right;\">\n",
       "      <th></th>\n",
       "      <th>source</th>\n",
       "      <th>english_sentence</th>\n",
       "      <th>hindi_sentence</th>\n",
       "      <th>english_length</th>\n",
       "      <th>hindi_length</th>\n",
       "    </tr>\n",
       "  </thead>\n",
       "  <tbody>\n",
       "    <tr>\n",
       "      <th>123152</th>\n",
       "      <td>ted</td>\n",
       "      <td>is not about belief but about behavior</td>\n",
       "      <td>START_ वो विश्वास के बारे में नहीं वरन लेकिन व...</td>\n",
       "      <td>7</td>\n",
       "      <td>14</td>\n",
       "    </tr>\n",
       "    <tr>\n",
       "      <th>31468</th>\n",
       "      <td>ted</td>\n",
       "      <td>than the story were going to tell about it later</td>\n",
       "      <td>START_ उससे जो हम बाद में बताने वाले हैं _END</td>\n",
       "      <td>10</td>\n",
       "      <td>10</td>\n",
       "    </tr>\n",
       "    <tr>\n",
       "      <th>102720</th>\n",
       "      <td>ted</td>\n",
       "      <td>and if they need a pair of glasses they are av...</td>\n",
       "      <td>START_ यदि किसी को चश्मे की ज़रूरत है तो उसे श...</td>\n",
       "      <td>17</td>\n",
       "      <td>19</td>\n",
       "    </tr>\n",
       "    <tr>\n",
       "      <th>40273</th>\n",
       "      <td>ted</td>\n",
       "      <td>the feedback here is immediate</td>\n",
       "      <td>START_ यहाँ तुरंत नतीजा मिलता है _END</td>\n",
       "      <td>5</td>\n",
       "      <td>7</td>\n",
       "    </tr>\n",
       "    <tr>\n",
       "      <th>17027</th>\n",
       "      <td>ted</td>\n",
       "      <td>a rather astonishing demonstration of the abil...</td>\n",
       "      <td>START_ यह दिमाग की एक अद्भुत क्षमता का प्रदर्श...</td>\n",
       "      <td>10</td>\n",
       "      <td>11</td>\n",
       "    </tr>\n",
       "  </tbody>\n",
       "</table>\n",
       "</div>"
      ],
      "text/plain": [
       "       source                                   english_sentence  \\\n",
       "123152    ted             is not about belief but about behavior   \n",
       "31468     ted   than the story were going to tell about it later   \n",
       "102720    ted  and if they need a pair of glasses they are av...   \n",
       "40273     ted                     the feedback here is immediate   \n",
       "17027     ted  a rather astonishing demonstration of the abil...   \n",
       "\n",
       "                                           hindi_sentence  english_length  \\\n",
       "123152  START_ वो विश्वास के बारे में नहीं वरन लेकिन व...               7   \n",
       "31468       START_ उससे जो हम बाद में बताने वाले हैं _END              10   \n",
       "102720  START_ यदि किसी को चश्मे की ज़रूरत है तो उसे श...              17   \n",
       "40273               START_ यहाँ तुरंत नतीजा मिलता है _END               5   \n",
       "17027   START_ यह दिमाग की एक अद्भुत क्षमता का प्रदर्श...              10   \n",
       "\n",
       "        hindi_length  \n",
       "123152            14  \n",
       "31468             10  \n",
       "102720            19  \n",
       "40273              7  \n",
       "17027             11  "
      ]
     },
     "execution_count": 14,
     "metadata": {},
     "output_type": "execute_result"
    }
   ],
   "source": [
    "## counting length of english and hindi sentence\n",
    "data['english_length'] = data['english_sentence'].apply(lambda x: len(x.split(' ')))\n",
    "data['hindi_length'] = data['hindi_sentence'].apply(lambda x: len(x.split(' ')))\n",
    "\n",
    "data.head()"
   ]
  },
  {
   "cell_type": "code",
   "execution_count": 15,
   "id": "635d9d30",
   "metadata": {
    "execution": {
     "iopub.execute_input": "2022-01-03T11:15:02.062967Z",
     "iopub.status.busy": "2022-01-03T11:15:02.062133Z",
     "iopub.status.idle": "2022-01-03T11:15:02.065599Z",
     "shell.execute_reply": "2022-01-03T11:15:02.066004Z",
     "shell.execute_reply.started": "2022-01-03T11:00:48.561152Z"
    },
    "papermill": {
     "duration": 0.041276,
     "end_time": "2022-01-03T11:15:02.066131",
     "exception": false,
     "start_time": "2022-01-03T11:15:02.024855",
     "status": "completed"
    },
    "tags": []
   },
   "outputs": [
    {
     "name": "stdout",
     "output_type": "stream",
     "text": [
      "Maximum length of English Sentence:  21\n",
      "Maximum length of Hindi Sentence:  32\n"
     ]
    }
   ],
   "source": [
    "print(\"Maximum length of English Sentence: \", max(data['english_length']))\n",
    "print(\"Maximum length of Hindi Sentence: \",max(data['hindi_length']))"
   ]
  },
  {
   "cell_type": "code",
   "execution_count": 16,
   "id": "264d95a5",
   "metadata": {
    "execution": {
     "iopub.execute_input": "2022-01-03T11:15:02.157568Z",
     "iopub.status.busy": "2022-01-03T11:15:02.156843Z",
     "iopub.status.idle": "2022-01-03T11:15:02.219236Z",
     "shell.execute_reply": "2022-01-03T11:15:02.219613Z",
     "shell.execute_reply.started": "2022-01-03T11:00:49.807990Z"
    },
    "papermill": {
     "duration": 0.124426,
     "end_time": "2022-01-03T11:15:02.219739",
     "exception": false,
     "start_time": "2022-01-03T11:15:02.095313",
     "status": "completed"
    },
    "tags": []
   },
   "outputs": [
    {
     "name": "stdout",
     "output_type": "stream",
     "text": [
      "toral english words:  12483\n",
      "total hind words:  15529\n"
     ]
    }
   ],
   "source": [
    "### Get English and Hindi Vocabulary\n",
    "all_eng_words=set()\n",
    "for eng in data['english_sentence']:\n",
    "    for word in eng.split():\n",
    "        if word not in all_eng_words:\n",
    "            all_eng_words.add(word)\n",
    "\n",
    "all_hindi_words=set()\n",
    "for hin in data['hindi_sentence']:\n",
    "    for word in hin.split():\n",
    "        if word not in all_hindi_words:\n",
    "            all_hindi_words.add(word)\n",
    "            \n",
    "\n",
    "print(\"toral english words: \",len(all_eng_words))\n",
    "print('total hind words: ',len(all_hindi_words))"
   ]
  },
  {
   "cell_type": "code",
   "execution_count": 17,
   "id": "ff55e178",
   "metadata": {
    "execution": {
     "iopub.execute_input": "2022-01-03T11:15:02.286084Z",
     "iopub.status.busy": "2022-01-03T11:15:02.285330Z",
     "iopub.status.idle": "2022-01-03T11:15:02.291059Z",
     "shell.execute_reply": "2022-01-03T11:15:02.290575Z",
     "shell.execute_reply.started": "2022-01-03T11:00:51.516655Z"
    },
    "papermill": {
     "duration": 0.04148,
     "end_time": "2022-01-03T11:15:02.291165",
     "exception": false,
     "start_time": "2022-01-03T11:15:02.249685",
     "status": "completed"
    },
    "tags": []
   },
   "outputs": [
    {
     "data": {
      "text/plain": [
       "(19830, 5)"
      ]
     },
     "execution_count": 17,
     "metadata": {},
     "output_type": "execute_result"
    }
   ],
   "source": [
    "## using only sentence with length less than 20\n",
    "mask1 = data['english_length'] < 21\n",
    "mask2 = data['hindi_length'] < 21\n",
    "data = data[mask1 & mask2]\n",
    "data.shape"
   ]
  },
  {
   "cell_type": "code",
   "execution_count": 18,
   "id": "23b34a46",
   "metadata": {
    "execution": {
     "iopub.execute_input": "2022-01-03T11:15:02.361743Z",
     "iopub.status.busy": "2022-01-03T11:15:02.360195Z",
     "iopub.status.idle": "2022-01-03T11:15:02.363888Z",
     "shell.execute_reply": "2022-01-03T11:15:02.363438Z",
     "shell.execute_reply.started": "2022-01-03T11:00:52.590137Z"
    },
    "papermill": {
     "duration": 0.042728,
     "end_time": "2022-01-03T11:15:02.363995",
     "exception": false,
     "start_time": "2022-01-03T11:15:02.321267",
     "status": "completed"
    },
    "tags": []
   },
   "outputs": [
    {
     "name": "stdout",
     "output_type": "stream",
     "text": [
      "maximum length of Hindi Sentence  20\n",
      "maximum length of English Sentence  20\n"
     ]
    }
   ],
   "source": [
    "print(\"maximum length of Hindi Sentence \",max(data['hindi_length']))\n",
    "print(\"maximum length of English Sentence \",max(data['english_length']))"
   ]
  },
  {
   "cell_type": "code",
   "execution_count": 19,
   "id": "6655df2d",
   "metadata": {
    "execution": {
     "iopub.execute_input": "2022-01-03T11:15:02.443693Z",
     "iopub.status.busy": "2022-01-03T11:15:02.443111Z",
     "iopub.status.idle": "2022-01-03T11:15:02.445576Z",
     "shell.execute_reply": "2022-01-03T11:15:02.445993Z",
     "shell.execute_reply.started": "2022-01-03T11:00:54.490300Z"
    },
    "papermill": {
     "duration": 0.051412,
     "end_time": "2022-01-03T11:15:02.446112",
     "exception": false,
     "start_time": "2022-01-03T11:15:02.394700",
     "status": "completed"
    },
    "tags": []
   },
   "outputs": [
    {
     "data": {
      "text/plain": [
       "(12483, 15529)"
      ]
     },
     "execution_count": 19,
     "metadata": {},
     "output_type": "execute_result"
    }
   ],
   "source": [
    "input_words = sorted(list(all_eng_words))\n",
    "target_words = sorted(list(all_hindi_words))\n",
    "num_encoder_tokens = len(all_eng_words)\n",
    "num_decoder_tokens = len(all_hindi_words)\n",
    "\n",
    "num_encoder_tokens, num_decoder_tokens"
   ]
  },
  {
   "cell_type": "code",
   "execution_count": 20,
   "id": "571bbfa1",
   "metadata": {
    "execution": {
     "iopub.execute_input": "2022-01-03T11:15:02.510322Z",
     "iopub.status.busy": "2022-01-03T11:15:02.509770Z",
     "iopub.status.idle": "2022-01-03T11:15:02.512766Z",
     "shell.execute_reply": "2022-01-03T11:15:02.512326Z",
     "shell.execute_reply.started": "2022-01-03T11:01:01.341382Z"
    },
    "papermill": {
     "duration": 0.036644,
     "end_time": "2022-01-03T11:15:02.512903",
     "exception": false,
     "start_time": "2022-01-03T11:15:02.476259",
     "status": "completed"
    },
    "tags": []
   },
   "outputs": [],
   "source": [
    "num_decoder_tokens += 1 #for zero padding\n",
    "num_encoder_tokens += 1"
   ]
  },
  {
   "cell_type": "code",
   "execution_count": 21,
   "id": "fff30255",
   "metadata": {
    "execution": {
     "iopub.execute_input": "2022-01-03T11:15:02.593993Z",
     "iopub.status.busy": "2022-01-03T11:15:02.593176Z",
     "iopub.status.idle": "2022-01-03T11:15:02.597241Z",
     "shell.execute_reply": "2022-01-03T11:15:02.598238Z",
     "shell.execute_reply.started": "2022-01-03T11:01:26.463677Z"
    },
    "papermill": {
     "duration": 0.054739,
     "end_time": "2022-01-03T11:15:02.598412",
     "exception": false,
     "start_time": "2022-01-03T11:15:02.543673",
     "status": "completed"
    },
    "tags": []
   },
   "outputs": [
    {
     "name": "stdout",
     "output_type": "stream",
     "text": [
      "Token for accelerating is:  50\n"
     ]
    }
   ],
   "source": [
    "input_token_index = dict([(word, i+1) for i, word in enumerate(input_words)])\n",
    "target_token_index = dict([(word, i+1) for i, word in enumerate(target_words)])\n",
    "print(\"Token for accelerating is: \",input_token_index['accelerating'])\n"
   ]
  },
  {
   "cell_type": "code",
   "execution_count": 22,
   "id": "2d4e6473",
   "metadata": {
    "execution": {
     "iopub.execute_input": "2022-01-03T11:15:02.671388Z",
     "iopub.status.busy": "2022-01-03T11:15:02.670676Z",
     "iopub.status.idle": "2022-01-03T11:15:02.673886Z",
     "shell.execute_reply": "2022-01-03T11:15:02.674557Z",
     "shell.execute_reply.started": "2022-01-03T11:01:26.815474Z"
    },
    "papermill": {
     "duration": 0.043541,
     "end_time": "2022-01-03T11:15:02.674719",
     "exception": false,
     "start_time": "2022-01-03T11:15:02.631178",
     "status": "completed"
    },
    "tags": []
   },
   "outputs": [
    {
     "name": "stdout",
     "output_type": "stream",
     "text": [
      "Character for toker 50 is:  accelerating\n"
     ]
    }
   ],
   "source": [
    "reverse_input_char_index = dict((i, word) for word, i in input_token_index.items())\n",
    "reverse_target_char_index = dict((i, word) for word, i in target_token_index.items())\n",
    "print(\"Character for toker 50 is: \",reverse_input_char_index[50])"
   ]
  },
  {
   "cell_type": "code",
   "execution_count": 23,
   "id": "6053dac4",
   "metadata": {
    "execution": {
     "iopub.execute_input": "2022-01-03T11:15:02.743837Z",
     "iopub.status.busy": "2022-01-03T11:15:02.743111Z",
     "iopub.status.idle": "2022-01-03T11:15:02.753044Z",
     "shell.execute_reply": "2022-01-03T11:15:02.752420Z",
     "shell.execute_reply.started": "2022-01-03T11:01:28.387707Z"
    },
    "papermill": {
     "duration": 0.046219,
     "end_time": "2022-01-03T11:15:02.753182",
     "exception": false,
     "start_time": "2022-01-03T11:15:02.706963",
     "status": "completed"
    },
    "tags": []
   },
   "outputs": [
    {
     "name": "stdout",
     "output_type": "stream",
     "text": [
      "Total number of training data:  15864\n",
      "Toral number of testing data:  3966\n"
     ]
    }
   ],
   "source": [
    "# splitting data\n",
    "X_, y_ = data['english_sentence'], data['hindi_sentence']\n",
    "X_train, X_test, y_train, y_test = train_test_split(X_, y_, test_size = 0.2,random_state=42)\n",
    "print(\"Total number of training data: \",X_train.shape[0])\n",
    "print(\"Toral number of testing data: \",X_test.shape[0])"
   ]
  },
  {
   "cell_type": "code",
   "execution_count": 24,
   "id": "1242c65e",
   "metadata": {
    "execution": {
     "iopub.execute_input": "2022-01-03T11:15:02.824034Z",
     "iopub.status.busy": "2022-01-03T11:15:02.823323Z",
     "iopub.status.idle": "2022-01-03T11:15:07.053086Z",
     "shell.execute_reply": "2022-01-03T11:15:07.053807Z",
     "shell.execute_reply.started": "2022-01-03T11:01:28.725632Z"
    },
    "papermill": {
     "duration": 4.268869,
     "end_time": "2022-01-03T11:15:07.054034",
     "exception": false,
     "start_time": "2022-01-03T11:15:02.785165",
     "status": "completed"
    },
    "tags": []
   },
   "outputs": [
    {
     "name": "stdout",
     "output_type": "stream",
     "text": [
      "Model: \"model\"\n",
      "__________________________________________________________________________________________________\n",
      " Layer (type)                   Output Shape         Param #     Connected to                     \n",
      "==================================================================================================\n",
      " input_1 (InputLayer)           [(None, None)]       0           []                               \n",
      "                                                                                                  \n",
      " input_2 (InputLayer)           [(None, None)]       0           []                               \n",
      "                                                                                                  \n",
      " embedding (Embedding)          (None, None, 300)    3745200     ['input_1[0][0]']                \n",
      "                                                                                                  \n",
      " embedding_1 (Embedding)        (None, None, 300)    4659000     ['input_2[0][0]']                \n",
      "                                                                                                  \n",
      " lstm (LSTM)                    [(None, 300),        721200      ['embedding[0][0]']              \n",
      "                                 (None, 300),                                                     \n",
      "                                 (None, 300)]                                                     \n",
      "                                                                                                  \n",
      " lstm_1 (LSTM)                  [(None, None, 300),  721200      ['embedding_1[0][0]',            \n",
      "                                 (None, 300),                     'lstm[0][1]',                   \n",
      "                                 (None, 300)]                     'lstm[0][2]']                   \n",
      "                                                                                                  \n",
      " dense (Dense)                  (None, None, 15530)  4674530     ['lstm_1[0][0]']                 \n",
      "                                                                                                  \n",
      "==================================================================================================\n",
      "Total params: 14,521,130\n",
      "Trainable params: 14,521,130\n",
      "Non-trainable params: 0\n",
      "__________________________________________________________________________________________________\n"
     ]
    }
   ],
   "source": [
    "latent_dim = 300\n",
    "# Encoder\n",
    "encoder_inputs = Input(shape=(None,))\n",
    "enc_emb =  Embedding(num_encoder_tokens, latent_dim, mask_zero = True)(encoder_inputs)\n",
    "encoder_lstm = LSTM(latent_dim, return_state=True)\n",
    "encoder_outputs, state_h, state_c = encoder_lstm(enc_emb)\n",
    "# We discard `encoder_outputs` and only keep the states.\n",
    "encoder_states = [state_h, state_c]\n",
    "\n",
    "\n",
    "# Set up the decoder, using `encoder_states` as initial state.\n",
    "decoder_inputs = Input(shape=(None,))\n",
    "dec_emb_layer = Embedding(num_decoder_tokens, latent_dim, mask_zero = True)\n",
    "dec_emb = dec_emb_layer(decoder_inputs)\n",
    "# We set up our decoder to return full output sequences,\n",
    "# and to return internal states as well. We don't use the\n",
    "# return states in the training model, but we will use them in inference.\n",
    "decoder_lstm = LSTM(latent_dim, return_sequences=True, return_state=True)\n",
    "decoder_outputs, _, _ = decoder_lstm(dec_emb,\n",
    "                                     initial_state=encoder_states)\n",
    "decoder_dense = Dense(num_decoder_tokens, activation='softmax')\n",
    "decoder_outputs = decoder_dense(decoder_outputs)\n",
    "\n",
    "# Define the model that will turn\n",
    "# `encoder_input_data` & `decoder_input_data` into `decoder_target_data`\n",
    "model = tf.keras.Model([encoder_inputs, decoder_inputs], decoder_outputs)\n",
    "model.summary()"
   ]
  },
  {
   "cell_type": "code",
   "execution_count": 25,
   "id": "2591aced",
   "metadata": {
    "execution": {
     "iopub.execute_input": "2022-01-03T11:15:07.291225Z",
     "iopub.status.busy": "2022-01-03T11:15:07.290419Z",
     "iopub.status.idle": "2022-01-03T11:15:07.347493Z",
     "shell.execute_reply": "2022-01-03T11:15:07.348078Z",
     "shell.execute_reply.started": "2022-01-03T11:02:28.704434Z"
    },
    "papermill": {
     "duration": 0.259202,
     "end_time": "2022-01-03T11:15:07.348289",
     "exception": false,
     "start_time": "2022-01-03T11:15:07.089087",
     "status": "completed"
    },
    "tags": []
   },
   "outputs": [],
   "source": [
    "model.compile(optimizer='rmsprop', loss='categorical_crossentropy', metrics = ['accuracy'])"
   ]
  },
  {
   "cell_type": "code",
   "execution_count": 26,
   "id": "4f44f43d",
   "metadata": {
    "execution": {
     "iopub.execute_input": "2022-01-03T11:15:07.423469Z",
     "iopub.status.busy": "2022-01-03T11:15:07.417611Z",
     "iopub.status.idle": "2022-01-03T11:15:07.425473Z",
     "shell.execute_reply": "2022-01-03T11:15:07.425873Z",
     "shell.execute_reply.started": "2022-01-03T11:02:28.715793Z"
    },
    "papermill": {
     "duration": 0.045362,
     "end_time": "2022-01-03T11:15:07.426007",
     "exception": false,
     "start_time": "2022-01-03T11:15:07.380645",
     "status": "completed"
    },
    "tags": []
   },
   "outputs": [],
   "source": [
    "max_length_src = 20\n",
    "max_length_tar = 20 \n",
    "\n",
    "def generate_batch(X = X_train, y = y_train, batch_size = 128):\n",
    "    ''' Generate a batch of data '''\n",
    "    while True:\n",
    "        for j in range(0, len(X), batch_size):\n",
    "            encoder_input_data = np.zeros((batch_size, max_length_src),dtype='float32')\n",
    "            decoder_input_data = np.zeros((batch_size, max_length_tar),dtype='float32')\n",
    "            decoder_target_data = np.zeros((batch_size, max_length_tar, num_decoder_tokens),dtype='float32')\n",
    "            for i, (input_text, target_text) in enumerate(zip(X[j:j+batch_size], y[j:j+batch_size])):\n",
    "                for t, word in enumerate(input_text.split()):\n",
    "                    encoder_input_data[i, t] = input_token_index[word] # encoder input seq\n",
    "                for t, word in enumerate(target_text.split()):\n",
    "                    if t<len(target_text.split())-1:\n",
    "                        decoder_input_data[i, t] = target_token_index[word] # decoder input seq\n",
    "                    if t>0:\n",
    "                        # decoder target sequence (one hot encoded)\n",
    "                        # does not include the START_ token\n",
    "                        # Offset by one timestep\n",
    "                        decoder_target_data[i, t - 1, target_token_index[word]] = 1.\n",
    "            yield([encoder_input_data, decoder_input_data], decoder_target_data)"
   ]
  },
  {
   "cell_type": "code",
   "execution_count": 27,
   "id": "3edc3ed7",
   "metadata": {
    "execution": {
     "iopub.execute_input": "2022-01-03T11:15:07.494234Z",
     "iopub.status.busy": "2022-01-03T11:15:07.493468Z",
     "iopub.status.idle": "2022-01-03T11:15:07.495846Z",
     "shell.execute_reply": "2022-01-03T11:15:07.495425Z",
     "shell.execute_reply.started": "2022-01-03T11:02:28.728368Z"
    },
    "papermill": {
     "duration": 0.038083,
     "end_time": "2022-01-03T11:15:07.495958",
     "exception": false,
     "start_time": "2022-01-03T11:15:07.457875",
     "status": "completed"
    },
    "tags": []
   },
   "outputs": [],
   "source": [
    "train_samples = len(X_train)\n",
    "val_samples = len(X_test)\n",
    "batch_size = 128\n",
    "epochs = 5"
   ]
  },
  {
   "cell_type": "code",
   "execution_count": null,
   "id": "9885b680",
   "metadata": {
    "execution": {
     "iopub.execute_input": "2022-01-03T11:15:07.565898Z",
     "iopub.status.busy": "2022-01-03T11:15:07.565216Z",
     "iopub.status.idle": "2022-01-03T12:22:02.488351Z",
     "shell.execute_reply": "2022-01-03T12:22:02.487858Z",
     "shell.execute_reply.started": "2022-01-03T11:04:23.070733Z"
    },
    "papermill": {
     "duration": 4014.960957,
     "end_time": "2022-01-03T12:22:02.488490",
     "exception": false,
     "start_time": "2022-01-03T11:15:07.527533",
     "status": "completed"
    },
    "tags": []
   },
   "outputs": [
    {
     "name": "stdout",
     "output_type": "stream",
     "text": [
      "Epoch 1/5\n",
      "123/123 [==============================] - 1678s 13s/step - loss: 3.0208 - accuracy: 0.1292 - val_loss: 2.9208 - val_accuracy: 0.1386\n",
      "Epoch 2/5\n",
      "123/123 [==============================] - 2749s 22s/step - loss: 2.7737 - accuracy: 0.1510 - val_loss: 2.7859 - val_accuracy: 0.1693\n",
      "Epoch 3/5\n",
      "123/123 [==============================] - 1365s 11s/step - loss: 2.6105 - accuracy: 0.1843 - val_loss: 2.6893 - val_accuracy: 0.1932\n",
      "Epoch 4/5\n",
      "123/123 [==============================] - 1359s 11s/step - loss: 2.4942 - accuracy: 0.2037 - val_loss: 2.6507 - val_accuracy: 0.2037\n",
      "Epoch 5/5\n",
      " 87/123 [====================>.........] - ETA: 5:17:41 - loss: 2.4146 - accuracy: 0.2168"
     ]
    }
   ],
   "source": [
    "model.fit_generator(generator = generate_batch(X_train, y_train, batch_size = batch_size),\n",
    "                    steps_per_epoch = train_samples//batch_size,\n",
    "                    epochs=epochs,\n",
    "                    validation_data = generate_batch(X_test, y_test, batch_size = batch_size),\n",
    "                    validation_steps = val_samples//batch_size)"
   ]
  },
  {
   "cell_type": "code",
   "execution_count": null,
   "id": "0db0768d",
   "metadata": {
    "execution": {
     "iopub.execute_input": "2022-01-03T12:22:09.058394Z",
     "iopub.status.busy": "2022-01-03T12:22:09.057497Z",
     "iopub.status.idle": "2022-01-03T12:22:09.720190Z",
     "shell.execute_reply": "2022-01-03T12:22:09.719633Z",
     "shell.execute_reply.started": "2022-01-03T11:03:29.964124Z"
    },
    "papermill": {
     "duration": 3.995169,
     "end_time": "2022-01-03T12:22:09.720337",
     "exception": false,
     "start_time": "2022-01-03T12:22:05.725168",
     "status": "completed"
    },
    "tags": []
   },
   "outputs": [],
   "source": [
    "# Encode the input sequence to get the \"thought vectors\"\n",
    "encoder_model = tf.keras.Model(encoder_inputs, encoder_states)\n",
    "\n",
    "# Decoder setup\n",
    "# Below tensors will hold the states of the previous time step\n",
    "decoder_state_input_h = Input(shape=(latent_dim,))\n",
    "decoder_state_input_c = Input(shape=(latent_dim,))\n",
    "decoder_states_inputs = [decoder_state_input_h, decoder_state_input_c]\n",
    "\n",
    "dec_emb2= dec_emb_layer(decoder_inputs) # Get the embeddings of the decoder sequence\n",
    "\n",
    "# To predict the next word in the sequence, set the initial states to the states from the previous time step\n",
    "decoder_outputs2, state_h2, state_c2 = decoder_lstm(dec_emb2, initial_state=decoder_states_inputs)\n",
    "decoder_states2 = [state_h2, state_c2]\n",
    "decoder_outputs2 = decoder_dense(decoder_outputs2) # A dense softmax layer to generate prob dist. over the target vocabulary\n",
    "\n",
    "# Final decoder model\n",
    "decoder_model = tf.keras.Model(\n",
    "    [decoder_inputs] + decoder_states_inputs,\n",
    "    [decoder_outputs2] + decoder_states2)\n",
    "\n",
    "def decode_sequence(input_seq):\n",
    "    # Encode the input as state vectors.\n",
    "    states_value = encoder_model.predict(input_seq)\n",
    "    # Generate empty target sequence of length 1.\n",
    "    target_seq = np.zeros((1,1))\n",
    "    # Populate the first character of target sequence with the start character.\n",
    "    target_seq[0, 0] = target_token_index['START_']\n",
    "\n",
    "    # Sampling loop for a batch of sequences\n",
    "    # (to simplify, here we assume a batch of size 1).\n",
    "    stop_condition = False\n",
    "    decoded_sentence = ''\n",
    "    while not stop_condition:\n",
    "        output_tokens, h, c = decoder_model.predict([target_seq] + states_value)\n",
    "\n",
    "        # Sample a token\n",
    "        sampled_token_index = np.argmax(output_tokens[0, -1, :])\n",
    "        sampled_char = reverse_target_char_index[sampled_token_index]\n",
    "        decoded_sentence += ' '+sampled_char\n",
    "\n",
    "        # Exit condition: either hit max length\n",
    "        # or find stop character.\n",
    "        if (sampled_char == '_END' or\n",
    "           len(decoded_sentence) > 50):\n",
    "            stop_condition = True\n",
    "\n",
    "        # Update the target sequence (of length 1).\n",
    "        target_seq = np.zeros((1,1))\n",
    "        target_seq[0, 0] = sampled_token_index\n",
    "\n",
    "        # Update states\n",
    "        states_value = [h, c]\n",
    "\n",
    "    return decoded_sentence"
   ]
  },
  {
   "cell_type": "code",
   "execution_count": null,
   "id": "72ea9f27",
   "metadata": {
    "execution": {
     "iopub.execute_input": "2022-01-03T12:22:16.482233Z",
     "iopub.status.busy": "2022-01-03T12:22:16.481377Z",
     "iopub.status.idle": "2022-01-03T12:22:16.483207Z",
     "shell.execute_reply": "2022-01-03T12:22:16.483642Z",
     "shell.execute_reply.started": "2022-01-03T11:03:31.299328Z"
    },
    "papermill": {
     "duration": 3.260723,
     "end_time": "2022-01-03T12:22:16.483811",
     "exception": false,
     "start_time": "2022-01-03T12:22:13.223088",
     "status": "completed"
    },
    "tags": []
   },
   "outputs": [],
   "source": [
    "train_gen = generate_batch(X_train, y_train, batch_size = 1)\n",
    "k = -1"
   ]
  },
  {
   "cell_type": "code",
   "execution_count": null,
   "id": "aa3295a8",
   "metadata": {
    "execution": {
     "iopub.execute_input": "2022-01-03T12:22:23.360004Z",
     "iopub.status.busy": "2022-01-03T12:22:23.359126Z",
     "iopub.status.idle": "2022-01-03T12:22:25.571855Z",
     "shell.execute_reply": "2022-01-03T12:22:25.571269Z",
     "shell.execute_reply.started": "2022-01-03T11:13:53.189492Z"
    },
    "papermill": {
     "duration": 5.834655,
     "end_time": "2022-01-03T12:22:25.571988",
     "exception": false,
     "start_time": "2022-01-03T12:22:19.737333",
     "status": "completed"
    },
    "tags": []
   },
   "outputs": [],
   "source": [
    "\n",
    "k+=1\n",
    "(input_seq, actual_output), _ = next(train_gen)\n",
    "decoded_sentence = decode_sequence(input_seq)\n",
    "print('Input English sentence:', X_train[k:k+1].values[0])\n",
    "print('Actual Hindi Translation:', y_train[k:k+1].values[0][6:-4])\n",
    "print('Predicted Hindi Translation:', decoded_sentence[:-4])"
   ]
  },
  {
   "cell_type": "code",
   "execution_count": null,
   "id": "5e7347cf",
   "metadata": {
    "execution": {
     "iopub.execute_input": "2022-01-03T12:22:32.768757Z",
     "iopub.status.busy": "2022-01-03T12:22:32.767842Z",
     "iopub.status.idle": "2022-01-03T12:22:33.161224Z",
     "shell.execute_reply": "2022-01-03T12:22:33.160754Z",
     "shell.execute_reply.started": "2022-01-03T11:14:12.481207Z"
    },
    "papermill": {
     "duration": 3.932246,
     "end_time": "2022-01-03T12:22:33.161350",
     "exception": false,
     "start_time": "2022-01-03T12:22:29.229104",
     "status": "completed"
    },
    "tags": []
   },
   "outputs": [],
   "source": [
    "k = k + 1\n",
    "(input_seq, actual_output), _ = next(train_gen)\n",
    "decoded_sentence = decode_sequence(input_seq)\n",
    "print('Input English sentence:', X_train[k:k+1].values[0])\n",
    "print('Actual Hindi Translation:', y_train[k:k+1].values[0][6:-4])\n",
    "print('Predicted Hindi Translation:', decoded_sentence[:-4])"
   ]
  },
  {
   "cell_type": "code",
   "execution_count": null,
   "id": "5c15dd55",
   "metadata": {
    "execution": {
     "iopub.execute_input": "2022-01-03T12:22:39.999176Z",
     "iopub.status.busy": "2022-01-03T12:22:39.998321Z",
     "iopub.status.idle": "2022-01-03T12:22:40.268843Z",
     "shell.execute_reply": "2022-01-03T12:22:40.269278Z",
     "shell.execute_reply.started": "2022-01-03T11:03:23.547215Z"
    },
    "papermill": {
     "duration": 3.577799,
     "end_time": "2022-01-03T12:22:40.269425",
     "exception": false,
     "start_time": "2022-01-03T12:22:36.691626",
     "status": "completed"
    },
    "tags": []
   },
   "outputs": [],
   "source": [
    "k = k + 1\n",
    "(input_seq, actual_output), _ = next(train_gen)\n",
    "decoded_sentence = decode_sequence(input_seq)\n",
    "print('Input English sentence:', X_train[k:k+1].values[0])\n",
    "print('Actual Hindi Translation:', y_train[k:k+1].values[0][6:-4])\n",
    "print('Predicted Hindi Translation:', decoded_sentence[:-4])"
   ]
  },
  {
   "cell_type": "code",
   "execution_count": null,
   "id": "2ae1fb78",
   "metadata": {
    "execution": {
     "iopub.execute_input": "2022-01-03T12:22:47.089755Z",
     "iopub.status.busy": "2022-01-03T12:22:47.088952Z",
     "iopub.status.idle": "2022-01-03T12:22:47.545403Z",
     "shell.execute_reply": "2022-01-03T12:22:47.545800Z"
    },
    "papermill": {
     "duration": 4.008781,
     "end_time": "2022-01-03T12:22:47.545979",
     "exception": false,
     "start_time": "2022-01-03T12:22:43.537198",
     "status": "completed"
    },
    "tags": []
   },
   "outputs": [],
   "source": [
    "k = k + 1\n",
    "(input_seq, actual_output), _ = next(train_gen)\n",
    "decoded_sentence = decode_sequence(input_seq)\n",
    "print('Input English sentence:', X_train[k:k+1].values[0])\n",
    "print('Actual Hindi Translation:', y_train[k:k+1].values[0][6:-4])\n",
    "print('Predicted Hindi Translation:', decoded_sentence[:-4])"
   ]
  },
  {
   "cell_type": "code",
   "execution_count": null,
   "id": "439b88fc",
   "metadata": {
    "execution": {
     "iopub.execute_input": "2022-01-03T12:22:54.024531Z",
     "iopub.status.busy": "2022-01-03T12:22:54.023623Z",
     "iopub.status.idle": "2022-01-03T12:22:54.497810Z",
     "shell.execute_reply": "2022-01-03T12:22:54.497363Z",
     "shell.execute_reply.started": "2022-01-03T11:04:05.896924Z"
    },
    "papermill": {
     "duration": 3.711273,
     "end_time": "2022-01-03T12:22:54.497946",
     "exception": false,
     "start_time": "2022-01-03T12:22:50.786673",
     "status": "completed"
    },
    "tags": []
   },
   "outputs": [],
   "source": [
    "k = k + 1\n",
    "(input_seq, actual_output), _ = next(train_gen)\n",
    "decoded_sentence = decode_sequence(input_seq)\n",
    "print('Input English sentence:', X_train[k:k+1].values[0])\n",
    "print('Actual Hindi Translation:', y_train[k:k+1].values[0][6:-4])\n",
    "print('Predicted Hindi Translation:', decoded_sentence[:-4])"
   ]
  },
  {
   "cell_type": "code",
   "execution_count": null,
   "id": "9db62174",
   "metadata": {
    "execution": {
     "iopub.execute_input": "2022-01-03T12:23:01.754220Z",
     "iopub.status.busy": "2022-01-03T12:23:01.753255Z",
     "iopub.status.idle": "2022-01-03T12:23:02.246663Z",
     "shell.execute_reply": "2022-01-03T12:23:02.246140Z",
     "shell.execute_reply.started": "2022-01-03T11:04:11.217989Z"
    },
    "papermill": {
     "duration": 4.183166,
     "end_time": "2022-01-03T12:23:02.246808",
     "exception": false,
     "start_time": "2022-01-03T12:22:58.063642",
     "status": "completed"
    },
    "tags": []
   },
   "outputs": [],
   "source": [
    "k = k + 1\n",
    "(input_seq, actual_output), _ = next(train_gen)\n",
    "decoded_sentence = decode_sequence(input_seq)\n",
    "print('Input English sentence:', X_train[k:k+1].values[0])\n",
    "print('Actual Hindi Translation:', y_train[k:k+1].values[0][6:-4])\n",
    "print('Predicted Hindi Translation:', decoded_sentence[:-4])"
   ]
  },
  {
   "cell_type": "code",
   "execution_count": null,
   "id": "588e1316",
   "metadata": {
    "papermill": {
     "duration": 3.558173,
     "end_time": "2022-01-03T12:23:09.123201",
     "exception": false,
     "start_time": "2022-01-03T12:23:05.565028",
     "status": "completed"
    },
    "tags": []
   },
   "outputs": [],
   "source": []
  }
 ],
 "metadata": {
  "kernelspec": {
   "display_name": "Python 3 (ipykernel)",
   "language": "python",
   "name": "python3"
  },
  "language_info": {
   "codemirror_mode": {
    "name": "ipython",
    "version": 3
   },
   "file_extension": ".py",
   "mimetype": "text/x-python",
   "name": "python",
   "nbconvert_exporter": "python",
   "pygments_lexer": "ipython3",
   "version": "3.9.13"
  },
  "papermill": {
   "default_parameters": {},
   "duration": 4110.888796,
   "end_time": "2022-01-03T12:23:15.838830",
   "environment_variables": {},
   "exception": null,
   "input_path": "__notebook__.ipynb",
   "output_path": "__notebook__.ipynb",
   "parameters": {},
   "start_time": "2022-01-03T11:14:44.950034",
   "version": "2.3.3"
  }
 },
 "nbformat": 4,
 "nbformat_minor": 5
}
